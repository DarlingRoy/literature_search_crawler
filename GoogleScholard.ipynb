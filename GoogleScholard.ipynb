{
 "cells": [
  {
   "cell_type": "code",
   "execution_count": null,
   "metadata": {},
   "outputs": [],
   "source": [
    "from selenium import webdriver\n",
    "from bs4 import BeautifulSoup\n",
    "import pandas as pd\n",
    "\n",
    "#获得html页面内容\n",
    "def getHTMLText(url):\n",
    "    try:\n",
    "        browser=webdriver.Chrome()\n",
    "        browser.get(url)\n",
    "        return browser.page_source\n",
    "        \n",
    "    except:\n",
    "        return ''\n",
    "       \n",
    "#获得所有页码的url\n",
    "def getURLList(num,search):\n",
    "    URLs=[]\n",
    "    start_url='https://scholar.google.com.hk'\n",
    "    for i in range(int(num)):\n",
    "        url=start_url+'/scholar?start='+str(i*10)+'&q='+search+'&hl=zh-CN&as_sdt=0,5'\n",
    "        URLs.append(url)\n",
    "    return URLs\n",
    "\n",
    "def getPaperInfo(lst,urls):\n",
    "    for url in urls:\n",
    "        html=getHTMLText(url)\n",
    "        soup=BeautifulSoup(html,'html.parser')\n",
    "        for div in soup.find_all('div',attrs={'class':'gs_ri'}):\n",
    "            d={}\n",
    "            d['题目']=div.find('h3').text\n",
    "            d['作者']=div.find('div',attrs={'class':'gs_a'}).text.split('- ')[0].strip()\n",
    "            d['来源']=div.find('div',attrs={'class':'gs_a'}).text.split(' - ')[-1]\n",
    "            d['年份']=div.find('div',attrs={'class':'gs_a'}).text.split(' - ')[-2][-5:].strip()\n",
    "            d['被引数']=div.find('div',attrs={'class':'gs_fl'}).find_all('a')[2].text.split('：')[1]\n",
    "            lst.append(d)\n",
    "        \n",
    "\n",
    "def main():\n",
    "    searchWord=input(\"请输入搜索词：\")\n",
    "    pageNum=input(\"请输入搜索页数：\")\n",
    "    \n",
    "    urlList=getURLList(pageNum,searchWord)\n",
    "    \n",
    "    paperInfos=[]\n",
    "    getPaperInfo(paperInfos,urlList)\n",
    "    \n",
    "    data=pd.DataFrame(paperInfos)\n",
    "    data.to_excel('E:/1.xlsx')\n",
    "    \n",
    "main()"
   ]
  }
 ],
 "metadata": {
  "kernelspec": {
   "display_name": "Python 3",
   "language": "python",
   "name": "python3"
  },
  "language_info": {
   "codemirror_mode": {
    "name": "ipython",
    "version": 3
   },
   "file_extension": ".py",
   "mimetype": "text/x-python",
   "name": "python",
   "nbconvert_exporter": "python",
   "pygments_lexer": "ipython3",
   "version": "3.7.1"
  }
 },
 "nbformat": 4,
 "nbformat_minor": 2
}
