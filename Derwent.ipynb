{
 "cells": [
  {
   "cell_type": "code",
   "execution_count": 2,
   "metadata": {},
   "outputs": [],
   "source": [
    "from selenium import webdriver\n",
    "import time\n",
    "from bs4 import BeautifulSoup\n",
    "import pandas as pd\n",
    "import requests"
   ]
  },
  {
   "cell_type": "code",
   "execution_count": 3,
   "metadata": {},
   "outputs": [],
   "source": [
    "def getUrls(search):\n",
    "    try:\n",
    "        browser = webdriver.Chrome()\n",
    "        browser.get('http://apps.webofknowledge.com/DIIDW_GeneralSearch_input.do?product=DIIDW')\n",
    "        time.sleep(1)\n",
    "        browser.find_element_by_name('value(input1)').send_keys(search)\n",
    "        time.sleep(1)\n",
    "        browser.find_element_by_xpath('//*[@id=\"searchCell1\"]/span[1]/button').click()\n",
    "        soup=BeautifulSoup(browser.page_source,'html.parser')\n",
    "        urls=[]\n",
    "        pattern= soup.find('a', attrs={'class': 'smallV110 snowplow-full-record'}).get('href').strip()\n",
    "        for i in range(1,2):#获取前两页的内容\n",
    "            for j in range(i*10-9,i*10+1): #每页有十条记录\n",
    "                urls.append(\"https://apps.webofknowledge.com/\"+pattern.replace('&page=1&doc=1','&page={}&doc={}'.format(i,j)))\n",
    "        return urls\n",
    "    except:\n",
    "        print('没有找到相关专利')\n",
    "        "
   ]
  },
  {
   "cell_type": "code",
   "execution_count": 4,
   "metadata": {},
   "outputs": [],
   "source": [
    "def getImformation(urls):\n",
    "    list=[]\n",
    "    headers={\n",
    "            'User-Agent': 'Mozilla/5.0 (Windows NT 10.0; WOW64) AppleWebKit/537.36 (KHTML, like Gecko) Chrome/76.0.3809.100 Safari/537.36'\n",
    "        }\n",
    "    if urls:\n",
    "        for url in urls:\n",
    "            data={}\n",
    "            response=requests.get(url,headers=headers).text\n",
    "            soup=BeautifulSoup(response)\n",
    "            data['专利名称']=soup.find('td',attrs={'class':'FullRecTitle'}).text   \n",
    "        \n",
    "            td=soup.find_all('',attrs={'class':'fr_data_row'})\n",
    "            data['专利号']=td[0].text.replace('Patent Number(s):','').strip()\n",
    "            data['发明人']=td[1].text.replace('Inventor(s):','').strip()\n",
    "            data['专利权人和代码']=td[2].text.replace('Patent Assignee Name(s) and Code(s): ','')\n",
    "            data['Derwent 主入藏号:']=td[3].text.replace('Derwent Primary Accession Number: ','')\n",
    "            data['摘要']=td[4].text.replace('Abstract:','').strip()\n",
    "            data['国际专利分类']=td[6].text.replace('International Patent Classification:','').strip()\n",
    "            data['德温特分类代码']=td[7].text.replace('Derwent Class Code(s):','').strip()\n",
    "            data['德温特手工代码']=td[8].text.replace('Derwent Manual Code(s)::','').strip()\n",
    "        \n",
    "            list.append(data)\n",
    "        df=pd.DataFrame(list)\n",
    "        return df"
   ]
  },
  {
   "cell_type": "code",
   "execution_count": 5,
   "metadata": {},
   "outputs": [],
   "source": [
    "def main():\n",
    "    search=input('请输入查找关键字：')\n",
    "    df=getImformation(getUrls(search))\n",
    "    try:\n",
    "        writer = pd.ExcelWriter('E:/3.xlsx')\n",
    "        df.to_excel(writer,'Sheet1')\n",
    "        writer.save()\n",
    "    except:\n",
    "        print(\"文件存储错误！\")"
   ]
  },
  {
   "cell_type": "code",
   "execution_count": 6,
   "metadata": {},
   "outputs": [
    {
     "name": "stdout",
     "output_type": "stream",
     "text": [
      "请输入查找关键字：5G\n"
     ]
    }
   ],
   "source": [
    "main()"
   ]
  },
  {
   "cell_type": "code",
   "execution_count": null,
   "metadata": {},
   "outputs": [],
   "source": []
  }
 ],
 "metadata": {
  "kernelspec": {
   "display_name": "Python 3",
   "language": "python",
   "name": "python3"
  },
  "language_info": {
   "codemirror_mode": {
    "name": "ipython",
    "version": 3
   },
   "file_extension": ".py",
   "mimetype": "text/x-python",
   "name": "python",
   "nbconvert_exporter": "python",
   "pygments_lexer": "ipython3",
   "version": "3.7.3"
  }
 },
 "nbformat": 4,
 "nbformat_minor": 2
}
