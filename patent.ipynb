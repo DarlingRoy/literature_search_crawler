{
 "cells": [
  {
   "cell_type": "markdown",
   "metadata": {},
   "source": [
    "## 国家专利局数据检索"
   ]
  },
  {
   "cell_type": "raw",
   "metadata": {},
   "source": [
    "用到的网址是，'http://pss-system.cnipa.gov.cn/sipopublicsearch/portal/uiIndex.shtml',采用的是常规检索方式"
   ]
  },
  {
   "cell_type": "code",
   "execution_count": 1,
   "metadata": {},
   "outputs": [],
   "source": [
    "import requests\n",
    "import re\n",
    "import pandas as pd"
   ]
  },
  {
   "cell_type": "code",
   "execution_count": 6,
   "metadata": {},
   "outputs": [],
   "source": [
    "def getResponse():\n",
    "    # 登录后才能访问的网页\n",
    "    url = 'http://pss-system.cnipa.gov.cn/sipopublicsearch/patentsearch/executeSmartSearch1207-executeSmartSearch.shtml'\n",
    "    # 浏览器登录后得到的cookie\n",
    "    cookie_str = r'wee_username=Y2hlbmhvbmdsaWFuZzEwMQ%3D%3D; wee_password=Y2hlbmhvbmdsaWFuZzEwMQ%3D%3D; ' \\\n",
    "                 r'_gscu_1645064636=64466672dnnv6r52; avoid_declare=declare_pass; ' \\\n",
    "                 r'JSESSIONID=ZKRKiUkmexcotqtYjmPj2K2InSGvexBfteGpWeR7i3A3zgDMtyal!-586422460!982567663'\n",
    "    # 把cookie字符串处理成字典，以便接下来使用\n",
    "    cookies = {}\n",
    "    for line in cookie_str.split(';'):\n",
    "        key, value = line.split('=', 1)\n",
    "        cookies[key] = value\n",
    "    # 设置请求头\n",
    "    headers = {\n",
    "        'Host': 'pss-system.cnipa.gov.cn',\n",
    "        'Origin': 'http://pss-system.cnipa.gov.cn',\n",
    "        'X-Requested-With': 'XMLHttpRequest',\n",
    "        'User-Agent': 'Mozilla/5.0 (Windows NT 10.0; WOW64) AppleWebKit/537.36 (KHTML, like Gecko) Chrome/75.0.3770.100 Safari/537.36',\n",
    "        'Referer': 'http://pss-system.cnipa.gov.cn/sipopublicsearch/portal/uiIndex.shtml',\n",
    "    }\n",
    "    # 设置表单内容\n",
    "    search = input(\"请输入需要查找专利的关键字：\")\n",
    "    data = {\n",
    "        \"searchCondition.searchExp\": search,\n",
    "        \"searchCondition.dbId\": \"VDB\",\n",
    "        \"resultPagination.limit\": 12,\n",
    "        \"searchCondition.searchType\": \"Sino_foreign\",\n",
    "        \"wee.bizlog.modulelevel\": \"0200101\"\n",
    "    }\n",
    "    response = requests.post(url, headers=headers, cookies=cookies, data=data).text\n",
    "\n",
    "    # 翻页需要的网页\n",
    "    url2 = 'http://pss-system.cnipa.gov.cn/sipopublicsearch/patentsearch/showSearchResult-startWa.shtml'\n",
    "    # 浏览器登录后得到的cookie\n",
    "    cookie_str2 = 'WEE_SID=fbBLCqSIZWRkzzAf9XgtAayOrcgsrYdMn0XpNtyBdmCZodXQKHRw!1487439115!376535830!1564627084424; IS_LOGIN=true; wee_username=Y2hlbmhvbmdsaWFuZzEwMQ%3D%3D; wee_password=Y2hlbmhvbmdsaWFuZzEwMQ%3D%3D; _gscu_1645064636=64466672dnnv6r52; avoid_declare=declare_pass; JSESSIONID=fbBLCqSIZWRkzzAf9XgtAayOrcgsrYdMn0XpNtyBdmCZodXQKHRw!1487439115!376535830'\n",
    "    # 把cookie字符串处理成字典，以便接下来使用\n",
    "    cookies2 = {}\n",
    "    for line in cookie_str2.split(';'):\n",
    "        key, value = line.split('=', 1)\n",
    "        cookies2[key] = value\n",
    "    # 设置表单内容\n",
    "    for i in range(1, 3):\n",
    "        i = i * 12\n",
    "        data2 = {\n",
    "            \"resultPagination.limit\": \"12\",\n",
    "            \"resultPagination.sumLimit\": \"10\",\n",
    "            \"resultPagination.start\": str(i),\n",
    "            \"searchCondition.searchExp\": \"复合文本 = (+\" + search + \"+)\",\n",
    "            \"searchCondition.executableSearchExp\":\"VDB:(TBI='\"+search+\"')\",\n",
    "            \"searchCondition.literatureSF\": \"复合文本 = (+\" + search + \"+)\",\n",
    "        }\n",
    "        response += requests.post(url2, headers=headers, cookies=cookies2, data=data2).text\n",
    "    return response"
   ]
  },
  {
   "cell_type": "code",
   "execution_count": 7,
   "metadata": {},
   "outputs": [],
   "source": [
    "# 获得专利的名称、申请号、申请日等\n",
    "def getResult(response):\n",
    "    # 名称\n",
    "    TIVIEW = re.findall(r'\"TIVIEW\":\"(.*?)\",', response)\n",
    "    # 申请号\n",
    "    APO = re.findall(r'\"APO\":\"(.*?)\",', response)\n",
    "    # 申请日\n",
    "    APD = re.findall(r'\"APD\":\"(.*?)\",', response)\n",
    "    # 公开（公告）号\n",
    "    VID = re.findall(r'\"VID\":\"(.*?)\",', response)\n",
    "    # 公开（公告）日\n",
    "    PD = re.findall(r'\"PD\":\"(.*?)\",', response)\n",
    "    # IPC分类号\n",
    "    IC = re.findall(r'\"IC\":\"(.*?)\",', response)\n",
    "    # 申请（专利权）人\n",
    "    PAVIEW = re.findall(r'\"PAVIEW\":\"(.*?)\",', response)\n",
    "    # 发明人\n",
    "    INVIEW = re.findall(r'\"INVIEW\":\"(.*?)\",', response)\n",
    "    # 代理人\n",
    "    AGT = re.findall(r'\"AGT\":\"(.*?)\",', response)\n",
    "    # 代理机构\n",
    "    AGY = re.findall(r'\"AGY\":\"(.*?)\",', response)\n",
    "    list=pd.DataFrame({\"名称\":TIVIEW,\"申请号\":APO,\"申请日\":APD,\"公开（公告）号\":VID,\"公开（公告）日\":PD,\n",
    "                       \"IPC分类号\":IC,\"申请（专利权）人\":PAVIEW,\"发明人\":INVIEW,\"代理人\":AGT,\"代理机构\":AGY})\n",
    "    return list"
   ]
  },
  {
   "cell_type": "code",
   "execution_count": 8,
   "metadata": {},
   "outputs": [
    {
     "name": "stdout",
     "output_type": "stream",
     "text": [
      "请输入需要查找专利的关键字：青蒿素\n",
      "保存成功！\n"
     ]
    }
   ],
   "source": [
    "if __name__ == '__main__':\n",
    "    writer = pd.ExcelWriter('E:/1.xlsx')\n",
    "    getResult(getResponse()).to_excel(writer, 'Sheet1')\n",
    "    writer.save()\n",
    "    print(\"保存成功！\")"
   ]
  },
  {
   "cell_type": "code",
   "execution_count": null,
   "metadata": {},
   "outputs": [],
   "source": []
  }
 ],
 "metadata": {
  "kernelspec": {
   "display_name": "Python 3",
   "language": "python",
   "name": "python3"
  },
  "language_info": {
   "codemirror_mode": {
    "name": "ipython",
    "version": 3
   },
   "file_extension": ".py",
   "mimetype": "text/x-python",
   "name": "python",
   "nbconvert_exporter": "python",
   "pygments_lexer": "ipython3",
   "version": "3.7.3"
  }
 },
 "nbformat": 4,
 "nbformat_minor": 2
}
