{
 "cells": [
  {
   "cell_type": "code",
   "execution_count": 1,
   "metadata": {},
   "outputs": [],
   "source": [
    "from selenium import webdriver\n",
    "import time\n",
    "from bs4 import BeautifulSoup\n",
    "import pandas as pd\n",
    "import requests"
   ]
  },
  {
   "cell_type": "code",
   "execution_count": 2,
   "metadata": {},
   "outputs": [],
   "source": [
    "def getHtml(search):\n",
    "    browser = webdriver.Chrome()\n",
    "    browser.get('https://apps.webofknowledge.com/')\n",
    "    time.sleep(1)\n",
    "    browser.find_element_by_name('value(input1)').send_keys(search)\n",
    "    time.sleep(1)\n",
    "    browser.find_element_by_xpath('//*[@id=\"searchCell1\"]/span[1]/button').click()\n",
    "    return browser.page_source"
   ]
  },
  {
   "cell_type": "code",
   "execution_count": 11,
   "metadata": {},
   "outputs": [],
   "source": [
    "def getUrls(html):\n",
    "    soup=BeautifulSoup(html,'html.parser')\n",
    "    urls=[]\n",
    "    pattern= soup.find('a', attrs={'class': 'smallV110 snowplow-full-record'}).get('href').strip()\n",
    "    for i in range(1,3):\n",
    "        for j in range(i*10-9,i*10+1):\n",
    "            urls.append(\"https://apps.webofknowledge.com//\"+pattern.replace('&page=1&doc=1','&page={}&doc={}'.format(i,j)))\n",
    "    return urls"
   ]
  },
  {
   "cell_type": "code",
   "execution_count": 12,
   "metadata": {},
   "outputs": [],
   "source": [
    "def getImformation(urls):\n",
    "    list=[]\n",
    "    headers={\n",
    "            'User-Agent': 'Mozilla/5.0 (Windows NT 10.0; WOW64) AppleWebKit/537.36 (KHTML, like Gecko) Chrome/76.0.3809.100 Safari/537.36'\n",
    "        }\n",
    "    for url in urls:\n",
    "        data={}\n",
    "        response=requests.get(url,headers=headers).text\n",
    "        soup=BeautifulSoup(response)\n",
    "        data['文献名称']=soup.find('div',attrs={'class':'title'}).text.strip()\n",
    "        \n",
    "        authors=[]\n",
    "        for author in soup.find_all('a',attrs={'title':'Find more records by this author'}):\n",
    "            authors.append(author.text.strip())\n",
    "        data['作者']=authors\n",
    "\n",
    "        data['来源']= soup.find(attrs={'class':'sourceTitle'}).text.strip()\n",
    "        \n",
    "        \n",
    "        keywords=[]\n",
    "        if soup.find('a',attrs={'title':'Find more records by this author keywords'}):\n",
    "            for keyword in soup.find_all('a',attrs={'title':'Find more records by this author keywords'}):\n",
    "                keywords.append(keyword.text.strip())\n",
    "        else:\n",
    "            keywords=str(soup.select('div.l-content div:nth-of-type(5) p')[0].text).replace('Keyword List:','').replace('\\n','')\n",
    "        data['关键字']=keywords\n",
    "        \n",
    "        list.append(data)\n",
    "    df=pd.DataFrame(list)\n",
    "    print(df)\n",
    "#     writer = pd.ExcelWriter('E:/3.xlsx')\n",
    "#     df.to_excel(writer,'Sheet1')\n",
    "#     writer.save()"
   ]
  },
  {
   "cell_type": "code",
   "execution_count": 13,
   "metadata": {},
   "outputs": [
    {
     "name": "stdout",
     "output_type": "stream",
     "text": [
      "请输入需要查找的关键字：5G\n",
      "                                                   作者  \\\n",
      "0               [Yeganeh, H, Salahi, A, Pourmina, MA]   \n",
      "1   [Varela-Martinez, DA, Gonzalez-Curbelo, MA, Go...   \n",
      "2   [Saber, MG, Vall-Llosera, G, Patel, D, Samani,...   \n",
      "3   [Booth, M, Broderick, N, Chen, L, Kim, M, Peac...   \n",
      "4   [Shen, C, Holguin-Lerma, JA, Alatawi, AA, Zou,...   \n",
      "5               [Liu, H, Zhao, L, Diao, HW, Wang, WJ]   \n",
      "6                  [Buene, AF, Hagfeldt, A, Hoff, BH]   \n",
      "7   [Zhao, T, Zhou, Y, Li, WY, Ma, XY, Zhan, RT, C...   \n",
      "8   [Diby, ND, Duan, YQ, Grah, PA, Cai, FS, Yuan, ZH]   \n",
      "9   [Hernandez-Crespo, C, Fernandez-Gonzalvo, M, M...   \n",
      "10  [Ozturk, M, Gogate, M, Onireti, O, Adeel, A, H...   \n",
      "11                           [He, L, Wu, D, Tong, MP]   \n",
      "12  [Verma, VK, Patel, RK, Deshmukh, NA, Jha, AK, ...   \n",
      "13  [Deng, RX, Chen, BB, Li, HG, Zhang, K, Zhang, ...   \n",
      "14  [Kubo-Kaneda, M, Tanaka, H, Maki, S, Nii, M, U...   \n",
      "15                  [Chawla, P, Sharma, SK, Toor, AP]   \n",
      "16              [Kour, H, Jha, RK, Jain, S, Kumar, P]   \n",
      "17                  [Turk, Y, Zeydan, E, Akbulut, CA]   \n",
      "18  [Ye, GJ, Lan, T, Huang, ZX, Cheng, XN, Cai, CY...   \n",
      "19  [Shkir, M, Arif, M, Singh, A, Yahia, IS, Algar...   \n",
      "\n",
      "                                                  关键字  \\\n",
      "0   [4G/5G, capacity planning with dynamic pricing...   \n",
      "1   [Pesticide residue monitoring, QuEChERS, Dried...   \n",
      "2   [Silicon photonics, 5G, PAM-4, Silicon-on-insu...   \n",
      "3   ELSEVIER, RADARWEG 29, 1043 NX AMSTERDAM, NETH...   \n",
      "4   [Amplitude modulation, gallium nitride, laser ...   \n",
      "5   [Multi-crystalline silicon, Texturization, Wet...   \n",
      "6   [Geometry study, Phenothiazine, Dye-sensitized...   \n",
      "7   [Aquilaria sinensis, Lateral root, 2-(2-phenyl...   \n",
      "8   [TiO2 nanorods, CdS sensitization, Hydrotherma...   \n",
      "9   [Permeable pavement, Road deposited sediments,...   \n",
      "10  [Mobility management, Deep learning, Predictiv...   \n",
      "11  [Bacteria transport, Dendrimer, Deposition sit...   \n",
      "12  [Ginger, Turmeric, Temperature, Yield, Curcumi...   \n",
      "13  [MXene(Ti3C2Tx)/Co3O4 composite, 2D material, ...   \n",
      "14  [Fetal growth restriction, fetal therapy, phos...   \n",
      "15  [Central composite design, Golden yellow dye, ...   \n",
      "16  [Spectrum sharing, Power optimization, QoS, En...   \n",
      "17  [C-RAN, CA, CoMP, Interference mitigation, Fie...   \n",
      "18  [Xanthone-triazole derivatives, alpha-Glucosid...   \n",
      "19  [NiO, X-ray diffraction, Vibrational spectrosc...   \n",
      "\n",
      "                                                 文献名称  \\\n",
      "0   A Novel Cost Optimization Method for Mobile Cl...   \n",
      "1   Analysis of multiclass pesticides in dried fru...   \n",
      "2   Silicon-based optical links using novel direct...   \n",
      "3   Special Section: (Invited) Special issue on \"P...   \n",
      "4   Group-III-Nitride Superluminescent Diodes for ...   \n",
      "5   High-performance texturization of multicrystal...   \n",
      "6   A comprehensive experimental study of five fun...   \n",
      "7   EXPERIMENTAL INDUCTION OF 2-(2-PHENYLETHYL) CH...   \n",
      "8   Enhanced photoelectrochemical water-splitting ...   \n",
      "9   Influence of rainfall intensity and pollution ...   \n",
      "10  A novel deep learning driven, low-cost mobilit...   \n",
      "11  The influence of different charged poly (amido...   \n",
      "12  Response of ginger and turmeric to organic ver...   \n",
      "13  MXene/Co3O4 composite material: Stable synthes...   \n",
      "14  Placental growth factor as a predictor of the ...   \n",
      "15  Optimization and modeling of UV-TiO2 mediated ...   \n",
      "16  Protocol design and resource allocation for po...   \n",
      "17  Experimental performance evaluations of CoMP a...   \n",
      "18  Design and synthesis of novel xanthone-triazol...   \n",
      "19  A facile one-step flash combustion synthesis a...   \n",
      "\n",
      "                                                   来源  \n",
      "0   CANADIAN JOURNAL OF ELECTRICAL AND COMPUTER EN...  \n",
      "1                                      FOOD CHEMISTRY  \n",
      "2                               OPTICS COMMUNICATIONS  \n",
      "3                               OPTICS COMMUNICATIONS  \n",
      "4   IEEE JOURNAL OF SELECTED TOPICS IN QUANTUM ELE...  \n",
      "5       MATERIALS SCIENCE IN SEMICONDUCTOR PROCESSING  \n",
      "6                                   DYES AND PIGMENTS  \n",
      "7                          PAKISTAN JOURNAL OF BOTANY  \n",
      "8                     JOURNAL OF ALLOYS AND COMPOUNDS  \n",
      "9                    SCIENCE OF THE TOTAL ENVIRONMENT  \n",
      "10                                     NEUROCOMPUTING  \n",
      "11                                     WATER RESEARCH  \n",
      "12                      INDUSTRIAL CROPS AND PRODUCTS  \n",
      "13                            APPLIED SURFACE SCIENCE  \n",
      "14      JOURNAL OF MATERNAL-FETAL & NEONATAL MEDICINE  \n",
      "15                CHEMICAL ENGINEERING COMMUNICATIONS  \n",
      "16                          TELECOMMUNICATION SYSTEMS  \n",
      "17                          TELECOMMUNICATION SYSTEMS  \n",
      "18            EUROPEAN JOURNAL OF MEDICINAL CHEMISTRY  \n",
      "19      MATERIALS SCIENCE IN SEMICONDUCTOR PROCESSING  \n"
     ]
    }
   ],
   "source": [
    "def main():\n",
    "    search=input('请输入需要查找的关键字：')\n",
    "    getImformation(getUrls(getHtml(search)))\n",
    "    \n",
    "main()"
   ]
  },
  {
   "cell_type": "code",
   "execution_count": null,
   "metadata": {},
   "outputs": [],
   "source": [
    "url='http://apps.webofknowledge.com/full_record.do?product=UA&search_mode=GeneralSearch&qid=1&SID=5AqXdK9zdUxD5a6hmWg&page=1&doc=1'\n",
    "response=requests.get(url).text\n",
    "so=BeautifulSoup(response,'html.parser')"
   ]
  },
  {
   "cell_type": "code",
   "execution_count": null,
   "metadata": {},
   "outputs": [],
   "source": [
    "print(so.select('div.l-content  div:nth-of-type(5) p')[0].text)"
   ]
  },
  {
   "cell_type": "code",
   "execution_count": null,
   "metadata": {},
   "outputs": [],
   "source": []
  }
 ],
 "metadata": {
  "kernelspec": {
   "display_name": "Python 3",
   "language": "python",
   "name": "python3"
  },
  "language_info": {
   "codemirror_mode": {
    "name": "ipython",
    "version": 3
   },
   "file_extension": ".py",
   "mimetype": "text/x-python",
   "name": "python",
   "nbconvert_exporter": "python",
   "pygments_lexer": "ipython3",
   "version": "3.7.3"
  }
 },
 "nbformat": 4,
 "nbformat_minor": 2
}
