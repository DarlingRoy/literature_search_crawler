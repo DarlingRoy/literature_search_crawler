{
 "cells": [
  {
   "cell_type": "markdown",
   "metadata": {},
   "source": [
    "# 科学网会议数据检索"
   ]
  },
  {
   "cell_type": "markdown",
   "metadata": {},
   "source": [
    "科学网会议网站为网民提供了权威的学术会议信息。利用科学网会议网站进行数据检索，可以按照输入的关键词进行会议检索，也可以按照召开时间进行会议检索，也可以按照会议的学科分类进行会议检索。"
   ]
  },
  {
   "cell_type": "markdown",
   "metadata": {},
   "source": [
    "入口地址是\"http://meeting.sciencenet.cn/\"。 针对3种不同形式的检索需求，可以分别用3个不同的函数来实现。先给出基本的框架："
   ]
  },
  {
   "cell_type": "code",
   "execution_count": null,
   "metadata": {},
   "outputs": [],
   "source": [
    "import requests\n",
    "from bs4 import BeautifulSoup\n",
    "from urllib.parse import quote\n",
    "import pandas as pd\n",
    "\n",
    "#获得输入url的页面内容\n",
    "def getHTMLText(url):\n",
    "    return ''\n",
    "\n",
    "#获得会议的名称、地点、召开时间\n",
    "def getMeetingInfo(url,lst):\n",
    "    pass\n",
    "\n",
    "#按照用户输入的关键字进行数据检索\n",
    "def searchByKeyword(pageNum,lst):\n",
    "    pass\n",
    "    \n",
    "#按照用户选择的年份和月份进行数据检索        \n",
    "def searchByMonth(pageNum,lst):\n",
    "    pass\n",
    "\n",
    "#按照用户选择的分类进行数据检索\n",
    "def searchByClass(pageNum,lst):\n",
    "    pass\n",
    "\n",
    "def main():\n",
    "    pageNumber=2    #控制读取的页数\n",
    "    meetingInfos=[]\n",
    "    select=input('请选择会议的检索方式：\\n1.按输入的关键词检索\\n2.按召开月历检索\\n3.按会议分类检索\\n')\n",
    "    if select==str(1):\n",
    "        searchByKeyword(pageNumber,meetingInfos)\n",
    "    \n",
    "    elif select==str(2):\n",
    "        searchByMonth(pageNumber,meetingInfos)\n",
    "    \n",
    "    else:\n",
    "        searchByClass(pageNumber,meetingInfos)\n",
    "    \n",
    "main()"
   ]
  },
  {
   "cell_type": "markdown",
   "metadata": {},
   "source": [
    "对于按照输入的关键词进行会议检索，我们以输入“人工智能”为例，跳转到的网页的URL为\"http://meeting.sciencenet.cn/index.php?s=%2FCategory%2Fsearchmeeting&keyword=%E4%BA%BA%E5%B7%A5%E6%99%BA%E8%83%BD&p=1\"。\n",
    "可以看出，keyword的值就是输入的关键词编码后的形式，p的值就是当前的页码，第一页就是p=1，第二页就是p=2，以此类推。"
   ]
  },
  {
   "cell_type": "markdown",
   "metadata": {},
   "source": [
    "因此，searchByKeyword函数可以定义为："
   ]
  },
  {
   "cell_type": "code",
   "execution_count": null,
   "metadata": {},
   "outputs": [],
   "source": [
    "def searchByKeyword(pageNum,lst):\n",
    "    keyword=input('请输入关键字进行会议搜索：')\n",
    "    for i in range(pageNum):\n",
    "        quary_url='http://meeting.sciencenet.cn/'+'index.php?s=%2FCategory%2Fsearchmeeting&keyword='+quote(keyword)+'&p='+str(i+1)\n",
    "        getMeetingInfo(quary_url,lst)"
   ]
  },
  {
   "cell_type": "markdown",
   "metadata": {},
   "source": [
    "对于按照召开时间进行会议检索，科学网会议网站上提供的是按照月份进行筛选。我们以2019年7月为例，跳转到的网页的URL为\"http://meeting.sciencenet.cn/index.php?s=%2FCategory%2Fmth_meeting&mth=2019-07&p=1\"。\n",
    "可以看出，mth的值就是按照月历进行筛选的筛选条件，因此我们可以按照用户输入的值来获得不同月份的网页的URL，p的值依然是当前的页码。"
   ]
  },
  {
   "cell_type": "markdown",
   "metadata": {},
   "source": [
    "因此，searchByMonth函数可以定义为："
   ]
  },
  {
   "cell_type": "code",
   "execution_count": null,
   "metadata": {},
   "outputs": [],
   "source": [
    "def searchByMonth(pageNum,lst):\n",
    "    year=input('请输入检索年份：')\n",
    "    month=input('请输入检索月份：')\n",
    "    month=(month if len(month)==2 else '0'+month)    #按照URL中的格式，月份的表示如7月，必须表示为07而不能是7\n",
    "    for i in range(pageNum):\n",
    "        quary_url='http://meeting.sciencenet.cn/'+'index.php?s=%2FCategory%2Fmth_meeting&mth='+year+'-'+month+'&p='+str(i+1)\n",
    "        getMeetingInfo(quary_url,lst"
   ]
  },
  {
   "cell_type": "markdown",
   "metadata": {},
   "source": [
    "对于按照会议的学科类别进行会议检索，科学网会议网站上提供了8种不同的类别选择。我们以”生命科学”为例，跳转到的网页的URL为\"http://meeting.sciencenet.cn/index.php?s=%2FCategory%2Findex&cid=2&p=1\"。\n",
    "可以看出，URL中用cid的值来区分不同的类别，对于8种不同的类别，cid的值分别是从2到9，p的值依然是当前的页码。"
   ]
  },
  {
   "cell_type": "markdown",
   "metadata": {},
   "source": [
    "因此，searchByClass函数可以定义为："
   ]
  },
  {
   "cell_type": "code",
   "execution_count": 1,
   "metadata": {},
   "outputs": [],
   "source": [
    "#按照用户选择的分类进行数据检索\n",
    "def searchByClass(pageNum,lst):\n",
    "    url='http://meeting.sciencenet.cn/index.php?s=/Category/moreCategory'   #在这个页面上能更方便的获得会议的领域分类信息\n",
    "    html=getHTMLText(url)\n",
    "    soup=BeautifulSoup(html,'html.parser')\n",
    "    \n",
    "    classifies=[]       #按学科领域对会议进行分类，存储所有不同类别的名称\n",
    "    for b in soup.find_all('b',attrs={'id':'nm'}):\n",
    "        classifies.append(b.text)\n",
    "    \n",
    "    for i in range(len(classifies)):\n",
    "        print(str(i+1)+'、'+classifies[i])\n",
    "        \n",
    "    choose=input('请选择会议分类：')\n",
    "    \n",
    "    for i in range(pageNum):\n",
    "        quary_url='http://meeting.sciencenet.cn/'+'index.php?s=%2FCategory%2Findex&cid='+str(int(choose)+1)+'&p='+str(i+1)\n",
    "        getMeetingInfo(quary_url,lst)"
   ]
  },
  {
   "cell_type": "markdown",
   "metadata": {},
   "source": [
    "在按照不同的形式检索得到的页面中，会议名称、地点、召开时间都可以定位在相同的html代码段中，所以我们要定义一个可复用的函数getMeetingInfo。以其中一个会议的信息为例，可以定位在一个tr标签中。"
   ]
  },
  {
   "cell_type": "raw",
   "metadata": {},
   "source": [
    "<tr>\n",
    "  <td width=\"2%\">\n",
    "    <img src=\"./Public/images/t12.gif\" height=\"13\" width=\"15\">\n",
    "  </td>\n",
    "  <td width=\"60%\" style=\"font-size:12px;line-height:2.3;\">\n",
    "    <a style=\"color: rgb(51, 51, 51);\" onmouseover=\"javascript:this.style.color='#ba1414'\" onmouseout=\"javascript:this.style.color='#333333'\" href=\"http://www.tocenet.org/\" onclick=\"addo(15170)\" target=\"_blank\">\n",
    "      第九届计算机工程与网络国际学术会议（CENet2019） </a>\n",
    "  </td>\n",
    "  <td>&nbsp;\n",
    "  </td>\n",
    "  <td class=\"STYLE2\" align=\"right\" style=\"font-size:12px;line-height:2.3;\">\n",
    "    <span class=\"STYLE2\">\n",
    "      长沙 </span>\n",
    "  </td>\n",
    "  <td>&nbsp;\n",
    "  </td>\n",
    "  <td class=\"STYLE2\" align=\"center\" style=\"font-size:12px;line-height:2.3;\">\n",
    "    2019-10-18 </td>\n",
    "</tr>"
   ]
  },
  {
   "cell_type": "markdown",
   "metadata": {},
   "source": [
    "其中，会议名称为具有属性{'width':'60%'}的td标签的字符串内容；地点为具有属性{'class':'STYLE2'}的第1个td标签的字符串内容；召开时间为具有属性{'class':'STYLE2'}的第2个td标签的字符串内容。"
   ]
  },
  {
   "cell_type": "markdown",
   "metadata": {},
   "source": [
    "最后，可以把得到的数据存入一个excel文件中，可用于后续的数据分析。下面给出完整的代码实现："
   ]
  },
  {
   "cell_type": "code",
   "execution_count": null,
   "metadata": {},
   "outputs": [],
   "source": [
    "import requests\n",
    "from bs4 import BeautifulSoup\n",
    "from urllib.parse import quote\n",
    "import pandas as pd\n",
    "\n",
    "#获得输入url的页面内容\n",
    "def getHTMLText(url):\n",
    "    try:\n",
    "        r=requests.get(url)\n",
    "        r.raise_for_status()\n",
    "        r.encoding='utf-8'\n",
    "        return r.text\n",
    "    except:\n",
    "        return ''    \n",
    "\n",
    "#获得会议的名称、时间、地点\n",
    "def getMeetingInfo(url,lst):\n",
    "    html=getHTMLText(url)\n",
    "    soup=BeautifulSoup(html,'html.parser')\n",
    "    for tr in soup.find_all('tr'):\n",
    "        infoDict={}\n",
    "        try:\n",
    "            infoDict['会议名称']=tr.find('td',attrs={'width':'60%'}).text.strip()\n",
    "            infoDict['地点']=tr.find_all('td',attrs={'class':'STYLE2'})[0].text.strip()\n",
    "            infoDict['召开时间']=tr.find_all('td',attrs={'class':'STYLE2'})[1].text.strip()\n",
    "        except:\n",
    "            continue\n",
    "        lst.append(infoDict)\n",
    "\n",
    "#按照用户输入的关键字进行数据检索\n",
    "def searchByKeyword(pageNum,lst):\n",
    "    keyword=input('请输入关键字进行会议搜索：')\n",
    "    for i in range(pageNum):\n",
    "        quary_url='http://meeting.sciencenet.cn/'+'index.php?s=%2FCategory%2Fsearchmeeting&keyword='+quote(keyword)+'&p='+str(i+1)\n",
    "        getMeetingInfo(quary_url,lst)\n",
    "        \n",
    "#按照用户选择的年份和月份进行数据检索        \n",
    "def searchByMonth(pageNum,lst):\n",
    "    year=input('请输入检索年份：')\n",
    "    month=input('请输入检索月份：')\n",
    "    month=(''+month if len(month)==2 else '0'+month)\n",
    "    for i in range(pageNum):\n",
    "        quary_url='http://meeting.sciencenet.cn/'+'index.php?s=%2FCategory%2Fmth_meeting&mth='+year+'-'+month+'&p='+str(i+1)\n",
    "        getMeetingInfo(quary_url,lst)\n",
    "        \n",
    "#按照用户选择的分类进行数据检索\n",
    "def searchByClass(pageNum,lst):\n",
    "    url='http://meeting.sciencenet.cn/index.php?s=/Category/moreCategory'\n",
    "    html=getHTMLText(url)\n",
    "    soup=BeautifulSoup(html,'html.parser')\n",
    "    \n",
    "    classifies=[]       #按学科领域对会议进行分类，存储所有不同类别的名称\n",
    "    for b in soup.find_all('b',attrs={'id':'nm'}):\n",
    "        classifies.append(b.text)\n",
    "    \n",
    "    for i in range(len(classifies)):\n",
    "        print(str(i+1)+'、'+classifies[i])\n",
    "        \n",
    "    choose=input('请选择会议分类：')\n",
    "    \n",
    "    for i in range(pageNum):\n",
    "        quary_url='http://meeting.sciencenet.cn/'+'index.php?s=%2FCategory%2Findex&cid='+str(int(choose)+1)+'&p='+str(i+1)\n",
    "        getMeetingInfo(quary_url,lst)\n",
    "        \n",
    "def main():\n",
    "    \n",
    "    pageNumber=2\n",
    "    meetingInfos=[]\n",
    "    select=input('请选择会议的检索方式：\\n1.按输入的关键词检索\\n2.按召开月历检索\\n3.按会议分类检索\\n')\n",
    "    if select==str(1):\n",
    "        searchByKeyword(pageNumber,meetingInfos)\n",
    "    \n",
    "    elif select==str(2):\n",
    "        searchByMonth(pageNumber,meetingInfos)\n",
    "    \n",
    "    else:\n",
    "        searchByClass(pageNumber,meetingInfos)\n",
    "    data=pd.DataFrame(meetingInfos)\n",
    "    data.to_excel('E:/sciencenet_meeting.xlsx')    #把数据保存为excel文件\n",
    "    \n",
    "main()"
   ]
  }
 ],
 "metadata": {
  "kernelspec": {
   "display_name": "Python 3",
   "language": "python",
   "name": "python3"
  },
  "language_info": {
   "codemirror_mode": {
    "name": "ipython",
    "version": 3
   },
   "file_extension": ".py",
   "mimetype": "text/x-python",
   "name": "python",
   "nbconvert_exporter": "python",
   "pygments_lexer": "ipython3",
   "version": "3.7.1"
  }
 },
 "nbformat": 4,
 "nbformat_minor": 2
}
